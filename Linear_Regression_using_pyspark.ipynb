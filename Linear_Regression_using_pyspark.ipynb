{
  "nbformat": 4,
  "nbformat_minor": 0,
  "metadata": {
    "colab": {
      "provenance": []
    },
    "kernelspec": {
      "name": "python3",
      "display_name": "Python 3"
    },
    "language_info": {
      "name": "python"
    }
  },
  "cells": [
    {
      "cell_type": "code",
      "source": [
        "!pip install pyspark"
      ],
      "metadata": {
        "colab": {
          "base_uri": "https://localhost:8080/"
        },
        "id": "-7oNYePGdlXy",
        "outputId": "f2bf9fe8-f3a6-479e-94bd-a7665bd6a950"
      },
      "execution_count": 1,
      "outputs": [
        {
          "output_type": "stream",
          "name": "stdout",
          "text": [
            "Collecting pyspark\n",
            "  Downloading pyspark-3.5.0.tar.gz (316.9 MB)\n",
            "\u001b[2K     \u001b[90m━━━━━━━━━━━━━━━━━━━━━━━━━━━━━━━━━━━━━━━━\u001b[0m \u001b[32m316.9/316.9 MB\u001b[0m \u001b[31m4.4 MB/s\u001b[0m eta \u001b[36m0:00:00\u001b[0m\n",
            "\u001b[?25h  Preparing metadata (setup.py) ... \u001b[?25l\u001b[?25hdone\n",
            "Requirement already satisfied: py4j==0.10.9.7 in /usr/local/lib/python3.10/dist-packages (from pyspark) (0.10.9.7)\n",
            "Building wheels for collected packages: pyspark\n",
            "  Building wheel for pyspark (setup.py) ... \u001b[?25l\u001b[?25hdone\n",
            "  Created wheel for pyspark: filename=pyspark-3.5.0-py2.py3-none-any.whl size=317425345 sha256=41cb51348429c805cb72a95b96102748a2ca4206e62825ef4491a3c4377d4e42\n",
            "  Stored in directory: /root/.cache/pip/wheels/41/4e/10/c2cf2467f71c678cfc8a6b9ac9241e5e44a01940da8fbb17fc\n",
            "Successfully built pyspark\n",
            "Installing collected packages: pyspark\n",
            "Successfully installed pyspark-3.5.0\n"
          ]
        }
      ]
    },
    {
      "cell_type": "code",
      "execution_count": 2,
      "metadata": {
        "id": "-YJ5lDTqcqp9"
      },
      "outputs": [],
      "source": [
        "# Importing libraries\n",
        "import pyspark\n",
        "from pyspark import SparkContext\n",
        "from pyspark.sql import SparkSession"
      ]
    },
    {
      "cell_type": "code",
      "source": [
        "sc=SparkContext()"
      ],
      "metadata": {
        "id": "l5RjgCzMdunf"
      },
      "execution_count": 3,
      "outputs": []
    },
    {
      "cell_type": "code",
      "source": [
        "spark = SparkSession.builder.master(\"Loacal[1]\").appName(\"admit_regress\").getOrCreate()"
      ],
      "metadata": {
        "id": "ydu6vBsTdwmx"
      },
      "execution_count": 4,
      "outputs": []
    },
    {
      "cell_type": "markdown",
      "source": [
        "**Prediction of chance of admission**"
      ],
      "metadata": {
        "id": "ekUfYWYkd9ww"
      }
    },
    {
      "cell_type": "code",
      "source": [
        "df_admit = spark.read.option(\"header\",True).option(\"inferSchema\",True).csv(\"/content/Admission_Predict.csv\")"
      ],
      "metadata": {
        "id": "Dqxl1f-Md8au"
      },
      "execution_count": 5,
      "outputs": []
    },
    {
      "cell_type": "code",
      "source": [
        "df_admit.show(10)"
      ],
      "metadata": {
        "colab": {
          "base_uri": "https://localhost:8080/"
        },
        "id": "vbWBeP_beP6U",
        "outputId": "df36ef4d-04d7-4319-9a73-cacd43f1af57"
      },
      "execution_count": 6,
      "outputs": [
        {
          "output_type": "stream",
          "name": "stdout",
          "text": [
            "+----------+---------+-----------+-----------------+---+----+----+--------+-----+\n",
            "|Serial No.|GRE Score|TOEFL Score|University Rating|SOP|LOR |CGPA|Research|Admit|\n",
            "+----------+---------+-----------+-----------------+---+----+----+--------+-----+\n",
            "|         1|      337|        118|                4|4.5| 4.5|9.65|       1| 0.92|\n",
            "|         2|      324|        107|                4|4.0| 4.5|8.87|       1| 0.76|\n",
            "|         3|      316|        104|                3|3.0| 3.5| 8.0|       1| 0.72|\n",
            "|         4|      322|        110|                3|3.5| 2.5|8.67|       1|  0.8|\n",
            "|         5|      314|        103|                2|2.0| 3.0|8.21|       0| 0.65|\n",
            "|         6|      330|        115|                5|4.5| 3.0|9.34|       1|  0.9|\n",
            "|         7|      321|        109|                3|3.0| 4.0| 8.2|       1| 0.75|\n",
            "|         8|      308|        101|                2|3.0| 4.0| 7.9|       0| 0.68|\n",
            "|         9|      302|        102|                1|2.0| 1.5| 8.0|       0|  0.5|\n",
            "|        10|      323|        108|                3|3.5| 3.0| 8.6|       0| 0.45|\n",
            "+----------+---------+-----------+-----------------+---+----+----+--------+-----+\n",
            "only showing top 10 rows\n",
            "\n"
          ]
        }
      ]
    },
    {
      "cell_type": "code",
      "source": [
        "# To print the data types of columns\n",
        "df_admit.printSchema()"
      ],
      "metadata": {
        "colab": {
          "base_uri": "https://localhost:8080/"
        },
        "id": "na8d844ZeW51",
        "outputId": "4b2edad9-0f9a-4383-9641-f57b394a28ce"
      },
      "execution_count": 7,
      "outputs": [
        {
          "output_type": "stream",
          "name": "stdout",
          "text": [
            "root\n",
            " |-- Serial No.: integer (nullable = true)\n",
            " |-- GRE Score: integer (nullable = true)\n",
            " |-- TOEFL Score: integer (nullable = true)\n",
            " |-- University Rating: integer (nullable = true)\n",
            " |-- SOP: double (nullable = true)\n",
            " |-- LOR : double (nullable = true)\n",
            " |-- CGPA: double (nullable = true)\n",
            " |-- Research: integer (nullable = true)\n",
            " |-- Admit: double (nullable = true)\n",
            "\n"
          ]
        }
      ]
    },
    {
      "cell_type": "code",
      "source": [
        "df_admit.columns"
      ],
      "metadata": {
        "colab": {
          "base_uri": "https://localhost:8080/"
        },
        "id": "PaNuJE-3ehoE",
        "outputId": "f991e17b-5372-4810-86e6-97cd3665ef27"
      },
      "execution_count": 8,
      "outputs": [
        {
          "output_type": "execute_result",
          "data": {
            "text/plain": [
              "['Serial No.',\n",
              " 'GRE Score',\n",
              " 'TOEFL Score',\n",
              " 'University Rating',\n",
              " 'SOP',\n",
              " 'LOR ',\n",
              " 'CGPA',\n",
              " 'Research',\n",
              " 'Admit']"
            ]
          },
          "metadata": {},
          "execution_count": 8
        }
      ]
    },
    {
      "cell_type": "code",
      "source": [
        "df_admit.count()"
      ],
      "metadata": {
        "colab": {
          "base_uri": "https://localhost:8080/"
        },
        "id": "S6qjDX4wek6l",
        "outputId": "65010b5a-d05d-4950-f787-953efa88dbbf"
      },
      "execution_count": 9,
      "outputs": [
        {
          "output_type": "execute_result",
          "data": {
            "text/plain": [
              "400"
            ]
          },
          "metadata": {},
          "execution_count": 9
        }
      ]
    },
    {
      "cell_type": "code",
      "source": [
        "len(df_admit.columns)"
      ],
      "metadata": {
        "colab": {
          "base_uri": "https://localhost:8080/"
        },
        "id": "uUqvcIhReoGq",
        "outputId": "efb88b17-65a5-4c06-c32a-1b6a683bfb6d"
      },
      "execution_count": 10,
      "outputs": [
        {
          "output_type": "execute_result",
          "data": {
            "text/plain": [
              "9"
            ]
          },
          "metadata": {},
          "execution_count": 10
        }
      ]
    },
    {
      "cell_type": "code",
      "source": [
        "df_admit.createOrReplaceTempView(\"admit_tab\")"
      ],
      "metadata": {
        "id": "DjR_a01DesUZ"
      },
      "execution_count": 11,
      "outputs": []
    },
    {
      "cell_type": "code",
      "source": [
        "df1 = spark.sql(\"select `GRE Score`,`TOEFL Score`,Admit from admit_tab where Admit>.85\")"
      ],
      "metadata": {
        "id": "XHROUTV2eyny"
      },
      "execution_count": 15,
      "outputs": []
    },
    {
      "cell_type": "code",
      "source": [
        "df1.show()"
      ],
      "metadata": {
        "colab": {
          "base_uri": "https://localhost:8080/"
        },
        "id": "5rZlurGZfC2U",
        "outputId": "f6cce698-342e-44c8-f2c4-3fc2352ad83b"
      },
      "execution_count": 16,
      "outputs": [
        {
          "output_type": "stream",
          "name": "stdout",
          "text": [
            "+---------+-----------+-----+\n",
            "|GRE Score|TOEFL Score|Admit|\n",
            "+---------+-----------+-----+\n",
            "|      337|        118| 0.92|\n",
            "|      330|        115|  0.9|\n",
            "|      328|        116| 0.94|\n",
            "|      334|        119| 0.95|\n",
            "|      336|        119| 0.97|\n",
            "|      340|        120| 0.94|\n",
            "|      338|        118| 0.91|\n",
            "|      340|        114|  0.9|\n",
            "|      331|        112| 0.94|\n",
            "|      320|        110| 0.88|\n",
            "|      332|        117| 0.87|\n",
            "|      326|        113| 0.91|\n",
            "|      322|        110| 0.88|\n",
            "|      329|        114| 0.86|\n",
            "|      339|        119| 0.89|\n",
            "|      332|        118| 0.94|\n",
            "|      336|        112| 0.96|\n",
            "|      321|        111| 0.93|\n",
            "|      340|        120| 0.96|\n",
            "|      320|        110| 0.92|\n",
            "+---------+-----------+-----+\n",
            "only showing top 20 rows\n",
            "\n"
          ]
        }
      ]
    },
    {
      "cell_type": "code",
      "source": [
        "from pyspark.ml.feature import VectorAssembler\n",
        "from pyspark.ml.feature import StringIndexer, OneHotEncoder"
      ],
      "metadata": {
        "id": "ZV7d7D3pfiGC"
      },
      "execution_count": 17,
      "outputs": []
    },
    {
      "cell_type": "code",
      "source": [
        "x = df_admit.drop(\"Serial No.\",\"Admit\")"
      ],
      "metadata": {
        "id": "_09Abk3jfxUd"
      },
      "execution_count": 18,
      "outputs": []
    },
    {
      "cell_type": "code",
      "source": [
        "x.show()"
      ],
      "metadata": {
        "colab": {
          "base_uri": "https://localhost:8080/"
        },
        "id": "ZQVzvbR9f2o3",
        "outputId": "7b3d70a2-5cb5-4516-82fa-32dcef524ae9"
      },
      "execution_count": 19,
      "outputs": [
        {
          "output_type": "stream",
          "name": "stdout",
          "text": [
            "+---------+-----------+-----------------+---+----+----+--------+\n",
            "|GRE Score|TOEFL Score|University Rating|SOP|LOR |CGPA|Research|\n",
            "+---------+-----------+-----------------+---+----+----+--------+\n",
            "|      337|        118|                4|4.5| 4.5|9.65|       1|\n",
            "|      324|        107|                4|4.0| 4.5|8.87|       1|\n",
            "|      316|        104|                3|3.0| 3.5| 8.0|       1|\n",
            "|      322|        110|                3|3.5| 2.5|8.67|       1|\n",
            "|      314|        103|                2|2.0| 3.0|8.21|       0|\n",
            "|      330|        115|                5|4.5| 3.0|9.34|       1|\n",
            "|      321|        109|                3|3.0| 4.0| 8.2|       1|\n",
            "|      308|        101|                2|3.0| 4.0| 7.9|       0|\n",
            "|      302|        102|                1|2.0| 1.5| 8.0|       0|\n",
            "|      323|        108|                3|3.5| 3.0| 8.6|       0|\n",
            "|      325|        106|                3|3.5| 4.0| 8.4|       1|\n",
            "|      327|        111|                4|4.0| 4.5| 9.0|       1|\n",
            "|      328|        112|                4|4.0| 4.5| 9.1|       1|\n",
            "|      307|        109|                3|4.0| 3.0| 8.0|       1|\n",
            "|      311|        104|                3|3.5| 2.0| 8.2|       1|\n",
            "|      314|        105|                3|3.5| 2.5| 8.3|       0|\n",
            "|      317|        107|                3|4.0| 3.0| 8.7|       0|\n",
            "|      319|        106|                3|4.0| 3.0| 8.0|       1|\n",
            "|      318|        110|                3|4.0| 3.0| 8.8|       0|\n",
            "|      303|        102|                3|3.5| 3.0| 8.5|       0|\n",
            "+---------+-----------+-----------------+---+----+----+--------+\n",
            "only showing top 20 rows\n",
            "\n"
          ]
        }
      ]
    },
    {
      "cell_type": "code",
      "source": [
        "va = VectorAssembler(inputCols=x.columns,outputCol=\"features\")"
      ],
      "metadata": {
        "id": "pEyu-nh4f3kt"
      },
      "execution_count": 20,
      "outputs": []
    },
    {
      "cell_type": "code",
      "source": [
        "df_admit=va.transform(df_admit)"
      ],
      "metadata": {
        "id": "mZhLSREmgBE2"
      },
      "execution_count": 21,
      "outputs": []
    },
    {
      "cell_type": "code",
      "source": [
        "df_admit.show()"
      ],
      "metadata": {
        "colab": {
          "base_uri": "https://localhost:8080/"
        },
        "id": "9g4cF6cmgECL",
        "outputId": "cfc03430-b8ac-4a1c-c407-378079ccd41b"
      },
      "execution_count": 22,
      "outputs": [
        {
          "output_type": "stream",
          "name": "stdout",
          "text": [
            "+----------+---------+-----------+-----------------+---+----+----+--------+-----+--------------------+\n",
            "|Serial No.|GRE Score|TOEFL Score|University Rating|SOP|LOR |CGPA|Research|Admit|            features|\n",
            "+----------+---------+-----------+-----------------+---+----+----+--------+-----+--------------------+\n",
            "|         1|      337|        118|                4|4.5| 4.5|9.65|       1| 0.92|[337.0,118.0,4.0,...|\n",
            "|         2|      324|        107|                4|4.0| 4.5|8.87|       1| 0.76|[324.0,107.0,4.0,...|\n",
            "|         3|      316|        104|                3|3.0| 3.5| 8.0|       1| 0.72|[316.0,104.0,3.0,...|\n",
            "|         4|      322|        110|                3|3.5| 2.5|8.67|       1|  0.8|[322.0,110.0,3.0,...|\n",
            "|         5|      314|        103|                2|2.0| 3.0|8.21|       0| 0.65|[314.0,103.0,2.0,...|\n",
            "|         6|      330|        115|                5|4.5| 3.0|9.34|       1|  0.9|[330.0,115.0,5.0,...|\n",
            "|         7|      321|        109|                3|3.0| 4.0| 8.2|       1| 0.75|[321.0,109.0,3.0,...|\n",
            "|         8|      308|        101|                2|3.0| 4.0| 7.9|       0| 0.68|[308.0,101.0,2.0,...|\n",
            "|         9|      302|        102|                1|2.0| 1.5| 8.0|       0|  0.5|[302.0,102.0,1.0,...|\n",
            "|        10|      323|        108|                3|3.5| 3.0| 8.6|       0| 0.45|[323.0,108.0,3.0,...|\n",
            "|        11|      325|        106|                3|3.5| 4.0| 8.4|       1| 0.52|[325.0,106.0,3.0,...|\n",
            "|        12|      327|        111|                4|4.0| 4.5| 9.0|       1| 0.84|[327.0,111.0,4.0,...|\n",
            "|        13|      328|        112|                4|4.0| 4.5| 9.1|       1| 0.78|[328.0,112.0,4.0,...|\n",
            "|        14|      307|        109|                3|4.0| 3.0| 8.0|       1| 0.62|[307.0,109.0,3.0,...|\n",
            "|        15|      311|        104|                3|3.5| 2.0| 8.2|       1| 0.61|[311.0,104.0,3.0,...|\n",
            "|        16|      314|        105|                3|3.5| 2.5| 8.3|       0| 0.54|[314.0,105.0,3.0,...|\n",
            "|        17|      317|        107|                3|4.0| 3.0| 8.7|       0| 0.66|[317.0,107.0,3.0,...|\n",
            "|        18|      319|        106|                3|4.0| 3.0| 8.0|       1| 0.65|[319.0,106.0,3.0,...|\n",
            "|        19|      318|        110|                3|4.0| 3.0| 8.8|       0| 0.63|[318.0,110.0,3.0,...|\n",
            "|        20|      303|        102|                3|3.5| 3.0| 8.5|       0| 0.62|[303.0,102.0,3.0,...|\n",
            "+----------+---------+-----------+-----------------+---+----+----+--------+-----+--------------------+\n",
            "only showing top 20 rows\n",
            "\n"
          ]
        }
      ]
    },
    {
      "cell_type": "code",
      "source": [
        "df_admit.select(\"features\").show()"
      ],
      "metadata": {
        "colab": {
          "base_uri": "https://localhost:8080/"
        },
        "id": "wYKjndpzgFnw",
        "outputId": "7adea6e1-27f8-4074-f848-223859a1c945"
      },
      "execution_count": 23,
      "outputs": [
        {
          "output_type": "stream",
          "name": "stdout",
          "text": [
            "+--------------------+\n",
            "|            features|\n",
            "+--------------------+\n",
            "|[337.0,118.0,4.0,...|\n",
            "|[324.0,107.0,4.0,...|\n",
            "|[316.0,104.0,3.0,...|\n",
            "|[322.0,110.0,3.0,...|\n",
            "|[314.0,103.0,2.0,...|\n",
            "|[330.0,115.0,5.0,...|\n",
            "|[321.0,109.0,3.0,...|\n",
            "|[308.0,101.0,2.0,...|\n",
            "|[302.0,102.0,1.0,...|\n",
            "|[323.0,108.0,3.0,...|\n",
            "|[325.0,106.0,3.0,...|\n",
            "|[327.0,111.0,4.0,...|\n",
            "|[328.0,112.0,4.0,...|\n",
            "|[307.0,109.0,3.0,...|\n",
            "|[311.0,104.0,3.0,...|\n",
            "|[314.0,105.0,3.0,...|\n",
            "|[317.0,107.0,3.0,...|\n",
            "|[319.0,106.0,3.0,...|\n",
            "|[318.0,110.0,3.0,...|\n",
            "|[303.0,102.0,3.0,...|\n",
            "+--------------------+\n",
            "only showing top 20 rows\n",
            "\n"
          ]
        }
      ]
    },
    {
      "cell_type": "code",
      "source": [
        "# Rename the target variable as label\n",
        "df_admit=df_admit.withColumnRenamed(\"Admit\",\"label\")"
      ],
      "metadata": {
        "id": "tjQKMB76gRbL"
      },
      "execution_count": 24,
      "outputs": []
    },
    {
      "cell_type": "code",
      "source": [
        "df_admit.show()"
      ],
      "metadata": {
        "colab": {
          "base_uri": "https://localhost:8080/"
        },
        "id": "EQJ-4-DlgdT6",
        "outputId": "e742a44f-395f-4aa1-be70-d9412753cebf"
      },
      "execution_count": 25,
      "outputs": [
        {
          "output_type": "stream",
          "name": "stdout",
          "text": [
            "+----------+---------+-----------+-----------------+---+----+----+--------+-----+--------------------+\n",
            "|Serial No.|GRE Score|TOEFL Score|University Rating|SOP|LOR |CGPA|Research|label|            features|\n",
            "+----------+---------+-----------+-----------------+---+----+----+--------+-----+--------------------+\n",
            "|         1|      337|        118|                4|4.5| 4.5|9.65|       1| 0.92|[337.0,118.0,4.0,...|\n",
            "|         2|      324|        107|                4|4.0| 4.5|8.87|       1| 0.76|[324.0,107.0,4.0,...|\n",
            "|         3|      316|        104|                3|3.0| 3.5| 8.0|       1| 0.72|[316.0,104.0,3.0,...|\n",
            "|         4|      322|        110|                3|3.5| 2.5|8.67|       1|  0.8|[322.0,110.0,3.0,...|\n",
            "|         5|      314|        103|                2|2.0| 3.0|8.21|       0| 0.65|[314.0,103.0,2.0,...|\n",
            "|         6|      330|        115|                5|4.5| 3.0|9.34|       1|  0.9|[330.0,115.0,5.0,...|\n",
            "|         7|      321|        109|                3|3.0| 4.0| 8.2|       1| 0.75|[321.0,109.0,3.0,...|\n",
            "|         8|      308|        101|                2|3.0| 4.0| 7.9|       0| 0.68|[308.0,101.0,2.0,...|\n",
            "|         9|      302|        102|                1|2.0| 1.5| 8.0|       0|  0.5|[302.0,102.0,1.0,...|\n",
            "|        10|      323|        108|                3|3.5| 3.0| 8.6|       0| 0.45|[323.0,108.0,3.0,...|\n",
            "|        11|      325|        106|                3|3.5| 4.0| 8.4|       1| 0.52|[325.0,106.0,3.0,...|\n",
            "|        12|      327|        111|                4|4.0| 4.5| 9.0|       1| 0.84|[327.0,111.0,4.0,...|\n",
            "|        13|      328|        112|                4|4.0| 4.5| 9.1|       1| 0.78|[328.0,112.0,4.0,...|\n",
            "|        14|      307|        109|                3|4.0| 3.0| 8.0|       1| 0.62|[307.0,109.0,3.0,...|\n",
            "|        15|      311|        104|                3|3.5| 2.0| 8.2|       1| 0.61|[311.0,104.0,3.0,...|\n",
            "|        16|      314|        105|                3|3.5| 2.5| 8.3|       0| 0.54|[314.0,105.0,3.0,...|\n",
            "|        17|      317|        107|                3|4.0| 3.0| 8.7|       0| 0.66|[317.0,107.0,3.0,...|\n",
            "|        18|      319|        106|                3|4.0| 3.0| 8.0|       1| 0.65|[319.0,106.0,3.0,...|\n",
            "|        19|      318|        110|                3|4.0| 3.0| 8.8|       0| 0.63|[318.0,110.0,3.0,...|\n",
            "|        20|      303|        102|                3|3.5| 3.0| 8.5|       0| 0.62|[303.0,102.0,3.0,...|\n",
            "+----------+---------+-----------+-----------------+---+----+----+--------+-----+--------------------+\n",
            "only showing top 20 rows\n",
            "\n"
          ]
        }
      ]
    },
    {
      "cell_type": "code",
      "source": [
        "df_new = df_admit.select(\"features\",\"label\")\n",
        "df_new.show()"
      ],
      "metadata": {
        "colab": {
          "base_uri": "https://localhost:8080/"
        },
        "id": "EjTwsGMJgey_",
        "outputId": "5baf5c05-8ce3-4d7a-8839-233d700c3f3b"
      },
      "execution_count": 26,
      "outputs": [
        {
          "output_type": "stream",
          "name": "stdout",
          "text": [
            "+--------------------+-----+\n",
            "|            features|label|\n",
            "+--------------------+-----+\n",
            "|[337.0,118.0,4.0,...| 0.92|\n",
            "|[324.0,107.0,4.0,...| 0.76|\n",
            "|[316.0,104.0,3.0,...| 0.72|\n",
            "|[322.0,110.0,3.0,...|  0.8|\n",
            "|[314.0,103.0,2.0,...| 0.65|\n",
            "|[330.0,115.0,5.0,...|  0.9|\n",
            "|[321.0,109.0,3.0,...| 0.75|\n",
            "|[308.0,101.0,2.0,...| 0.68|\n",
            "|[302.0,102.0,1.0,...|  0.5|\n",
            "|[323.0,108.0,3.0,...| 0.45|\n",
            "|[325.0,106.0,3.0,...| 0.52|\n",
            "|[327.0,111.0,4.0,...| 0.84|\n",
            "|[328.0,112.0,4.0,...| 0.78|\n",
            "|[307.0,109.0,3.0,...| 0.62|\n",
            "|[311.0,104.0,3.0,...| 0.61|\n",
            "|[314.0,105.0,3.0,...| 0.54|\n",
            "|[317.0,107.0,3.0,...| 0.66|\n",
            "|[319.0,106.0,3.0,...| 0.65|\n",
            "|[318.0,110.0,3.0,...| 0.63|\n",
            "|[303.0,102.0,3.0,...| 0.62|\n",
            "+--------------------+-----+\n",
            "only showing top 20 rows\n",
            "\n"
          ]
        }
      ]
    },
    {
      "cell_type": "code",
      "source": [
        "# Splitting of the dataset\n",
        "train,test = df_new.randomSplit([.80,.20],seed=10)"
      ],
      "metadata": {
        "id": "1ACnEVCwgoSF"
      },
      "execution_count": 27,
      "outputs": []
    },
    {
      "cell_type": "code",
      "source": [
        "train.count()"
      ],
      "metadata": {
        "colab": {
          "base_uri": "https://localhost:8080/"
        },
        "id": "H_MXR8ZtgzEs",
        "outputId": "e41ccb16-f043-4293-9d8a-398aaedee9f0"
      },
      "execution_count": 28,
      "outputs": [
        {
          "output_type": "execute_result",
          "data": {
            "text/plain": [
              "324"
            ]
          },
          "metadata": {},
          "execution_count": 28
        }
      ]
    },
    {
      "cell_type": "code",
      "source": [
        "test.count()"
      ],
      "metadata": {
        "colab": {
          "base_uri": "https://localhost:8080/"
        },
        "id": "tQc6X_RVg0jE",
        "outputId": "c761a241-7e4f-483f-8751-f55763d726b0"
      },
      "execution_count": 29,
      "outputs": [
        {
          "output_type": "execute_result",
          "data": {
            "text/plain": [
              "76"
            ]
          },
          "metadata": {},
          "execution_count": 29
        }
      ]
    },
    {
      "cell_type": "code",
      "source": [
        "# Modeling\n",
        "from pyspark.ml.regression import LinearRegression"
      ],
      "metadata": {
        "id": "XAkEO46Gg2Cu"
      },
      "execution_count": 30,
      "outputs": []
    },
    {
      "cell_type": "code",
      "source": [
        "model = LinearRegression(featuresCol=\"features\",labelCol=\"label\")"
      ],
      "metadata": {
        "id": "M5_7SmoNg795"
      },
      "execution_count": 31,
      "outputs": []
    },
    {
      "cell_type": "code",
      "source": [
        "model=model.fit(train)"
      ],
      "metadata": {
        "id": "JGDOHEuUhDsP"
      },
      "execution_count": 32,
      "outputs": []
    },
    {
      "cell_type": "code",
      "source": [
        "predict_train= model.transform(train)"
      ],
      "metadata": {
        "id": "Helvl4TchF54"
      },
      "execution_count": 33,
      "outputs": []
    },
    {
      "cell_type": "code",
      "source": [
        "predict_train.show(10)"
      ],
      "metadata": {
        "colab": {
          "base_uri": "https://localhost:8080/"
        },
        "id": "r9jftAWvhJpE",
        "outputId": "57385ef6-81bb-4122-ca07-f310fe3d56d2"
      },
      "execution_count": 34,
      "outputs": [
        {
          "output_type": "stream",
          "name": "stdout",
          "text": [
            "+--------------------+-----+-------------------+\n",
            "|            features|label|         prediction|\n",
            "+--------------------+-----+-------------------+\n",
            "|[290.0,100.0,1.0,...| 0.47| 0.4895045719083633|\n",
            "|[293.0,97.0,2.0,2...| 0.64| 0.5837197272852845|\n",
            "|[294.0,95.0,1.0,1...| 0.49|0.47445664641883845|\n",
            "|[295.0,93.0,1.0,2...| 0.46|0.42573076112568575|\n",
            "|[295.0,99.0,2.0,2...| 0.57| 0.5268403051844546|\n",
            "|[295.0,101.0,2.0,...| 0.69| 0.5353886253686992|\n",
            "|[296.0,95.0,2.0,3...| 0.44|0.49711688061011516|\n",
            "|[296.0,99.0,2.0,2...| 0.61| 0.5608211225647326|\n",
            "|[296.0,99.0,2.0,3...| 0.47| 0.4938602833092849|\n",
            "|[297.0,96.0,2.0,2...| 0.43| 0.5113138680936795|\n",
            "+--------------------+-----+-------------------+\n",
            "only showing top 10 rows\n",
            "\n"
          ]
        }
      ]
    },
    {
      "cell_type": "code",
      "source": [
        "predict_test=model.transform(test)"
      ],
      "metadata": {
        "id": "OkxMDCK4hLym"
      },
      "execution_count": 35,
      "outputs": []
    },
    {
      "cell_type": "code",
      "source": [
        "predict_test.show(10)"
      ],
      "metadata": {
        "colab": {
          "base_uri": "https://localhost:8080/"
        },
        "id": "2Im7_2XchRfk",
        "outputId": "35ca3877-0dab-45a7-9a42-8d65b4689346"
      },
      "execution_count": 36,
      "outputs": [
        {
          "output_type": "stream",
          "name": "stdout",
          "text": [
            "+--------------------+-----+-------------------+\n",
            "|            features|label|         prediction|\n",
            "+--------------------+-----+-------------------+\n",
            "|[290.0,104.0,4.0,...| 0.45| 0.5194002672137588|\n",
            "|[294.0,93.0,1.0,1...| 0.46|0.44606652221556353|\n",
            "|[295.0,96.0,2.0,1...| 0.47|0.46276683387795425|\n",
            "|[296.0,97.0,2.0,1...| 0.49| 0.5215618454858684|\n",
            "|[296.0,101.0,1.0,...|  0.6|  0.533586826949197|\n",
            "|[297.0,98.0,2.0,2...| 0.59| 0.5285743135610352|\n",
            "|[299.0,106.0,2.0,...| 0.64| 0.6602783290212286|\n",
            "|[300.0,99.0,1.0,3...| 0.36| 0.4269896945569578|\n",
            "|[300.0,102.0,2.0,...| 0.56|  0.555195727298651|\n",
            "|[300.0,102.0,3.0,...| 0.63|  0.594153183247139|\n",
            "+--------------------+-----+-------------------+\n",
            "only showing top 10 rows\n",
            "\n"
          ]
        }
      ]
    },
    {
      "cell_type": "code",
      "source": [
        "from pyspark.ml.evaluation import RegressionEvaluator"
      ],
      "metadata": {
        "id": "Phf1kR3lhTqq"
      },
      "execution_count": 37,
      "outputs": []
    },
    {
      "cell_type": "code",
      "source": [
        "eval1= RegressionEvaluator()"
      ],
      "metadata": {
        "id": "eYgWduHfhdU6"
      },
      "execution_count": 38,
      "outputs": []
    },
    {
      "cell_type": "code",
      "source": [
        "eval1= eval1.evaluate(predict_test,{eval1.metricName:\"r2\"})"
      ],
      "metadata": {
        "id": "B516ORQjhfrH"
      },
      "execution_count": 39,
      "outputs": []
    },
    {
      "cell_type": "code",
      "source": [
        "eval1"
      ],
      "metadata": {
        "colab": {
          "base_uri": "https://localhost:8080/"
        },
        "id": "VEhXHYazhrll",
        "outputId": "9b30edf8-1046-4138-d3f9-b0edb56cf7b7"
      },
      "execution_count": 40,
      "outputs": [
        {
          "output_type": "execute_result",
          "data": {
            "text/plain": [
              "0.8279039233279797"
            ]
          },
          "metadata": {},
          "execution_count": 40
        }
      ]
    },
    {
      "cell_type": "code",
      "source": [
        "eval2= RegressionEvaluator()"
      ],
      "metadata": {
        "id": "4zwdtmyZhshN"
      },
      "execution_count": 41,
      "outputs": []
    },
    {
      "cell_type": "code",
      "source": [
        "eval2=eval2.evaluate(predict_train,{eval2.metricName:\"r2\"})"
      ],
      "metadata": {
        "id": "iYbFH-BKhwOo"
      },
      "execution_count": 42,
      "outputs": []
    },
    {
      "cell_type": "code",
      "source": [
        "eval2"
      ],
      "metadata": {
        "colab": {
          "base_uri": "https://localhost:8080/"
        },
        "id": "czgGoYmGh4PR",
        "outputId": "724c494a-820f-402f-8600-4730dc7f749b"
      },
      "execution_count": 43,
      "outputs": [
        {
          "output_type": "execute_result",
          "data": {
            "text/plain": [
              "0.7937730086844993"
            ]
          },
          "metadata": {},
          "execution_count": 43
        }
      ]
    },
    {
      "cell_type": "markdown",
      "source": [
        "**Accuracy score of training dataset is 79 while accuracy of test data set is 83**"
      ],
      "metadata": {
        "id": "EMl002RUh_jE"
      }
    },
    {
      "cell_type": "code",
      "source": [],
      "metadata": {
        "id": "3qrs05IGh401"
      },
      "execution_count": null,
      "outputs": []
    }
  ]
}